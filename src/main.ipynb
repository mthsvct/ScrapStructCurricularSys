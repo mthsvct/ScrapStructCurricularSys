{
 "cells": [
  {
   "cell_type": "markdown",
   "metadata": {},
   "source": [
    "# Bibliotecas"
   ]
  },
  {
   "cell_type": "code",
   "execution_count": 1,
   "metadata": {},
   "outputs": [],
   "source": [
    "from bs4 import BeautifulSoup as bs\n",
    "from curso import Curso\n",
    "import json"
   ]
  },
  {
   "cell_type": "markdown",
   "metadata": {},
   "source": [
    "# Abrir o Arquivo HTML"
   ]
  },
  {
   "cell_type": "code",
   "execution_count": 2,
   "metadata": {},
   "outputs": [],
   "source": [
    "with open(\"estrutura.html\", \"r\", encoding=\"utf-8\") as f:\n",
    "    html = f.read()"
   ]
  },
  {
   "cell_type": "markdown",
   "metadata": {},
   "source": [
    "# Classe BS (BeautifulSoup)\n",
    "\n",
    "Para facilitar a manipulação do HTML."
   ]
  },
  {
   "cell_type": "code",
   "execution_count": 3,
   "metadata": {},
   "outputs": [],
   "source": [
    "soup = bs(html, \"html.parser\")"
   ]
  },
  {
   "cell_type": "markdown",
   "metadata": {},
   "source": [
    "# Filtrar tabela\n",
    "\n",
    "Analisando o html, é possível observar que a tabela que possui os dados que queremos, possuem a classe \"formulario\". \n",
    "\n",
    "<br />\n",
    "\n",
    "Os primeiro 18 elementos da tabela (\"tr\"), são de informações do curso e a 19ª linha possui uma outra tabela que estão listadas as informações das matérias do curso."
   ]
  },
  {
   "cell_type": "code",
   "execution_count": 4,
   "metadata": {},
   "outputs": [],
   "source": [
    "t = soup.find(\"table\", {\"class\": \"formulario\"}).find_all(\"tr\")[19].find(\"table\").find_all(\"tr\")"
   ]
  },
  {
   "cell_type": "markdown",
   "metadata": {},
   "source": [
    "# Periodos\n",
    "\n",
    "Organizar linhas da tabela do *HTML* em periodos."
   ]
  },
  {
   "cell_type": "code",
   "execution_count": 5,
   "metadata": {},
   "outputs": [],
   "source": [
    "def get_periodos(t):\n",
    "    periodos, nivel = [], 0\n",
    "    for i in t:\n",
    "        if 'class' in i.attrs:\n",
    "            if 'tituloRelatorio' == i.attrs['class'][0]:\n",
    "                nivel += 1\n",
    "            elif \"componentes\" == i.attrs['class'][0]: \n",
    "                periodos.append((nivel, i))\n",
    "    return periodos"
   ]
  },
  {
   "cell_type": "code",
   "execution_count": 6,
   "metadata": {},
   "outputs": [],
   "source": [
    "periodos = get_periodos(t)"
   ]
  },
  {
   "cell_type": "code",
   "execution_count": 7,
   "metadata": {},
   "outputs": [
    {
     "data": {
      "text/plain": [
       "(1,\n",
       " <tr class=\"componentes\">\n",
       " <td>UFP0805</td>\n",
       " <td>\n",
       " \t\t\t\t\t\t\t\t\t\tOutras atividades de gestão, técnica ou cientifica que agregam conhecimentos na formação do perfil do egresso (atip). - 30h (2cr)\n",
       " \t\t\t\t\t\t\t\t\t</td>\n",
       " <td style=\"font-size: 0.9em;\">\n",
       " \t\t\t\t\t\t\t\t\t\t30h (2cr) aula \n",
       " \t\t\t\t\t\t\t\t\t\t<br/> 0h (0cr) lab. \n",
       " \t\t\t\t\t\t\t\t\t</td>\n",
       " <td><small>\n",
       " \t\t\t\t\t\t\t\t\t\n",
       " \t\t\t\t\t\t\t\t\tATIVIDADES COMPLEMENTARES\n",
       " \t\t\t\t\t\t\t\t\t</small></td>\n",
       " <td>\n",
       " \t\t\t\t\t\t\t\t\t-\n",
       " \t\t\t\t\t\t\t\t\t</td>\n",
       " <td>\n",
       " \t\t\t\t\t\t\t\t\t-\n",
       " \t\t\t\t\t\t\t\t\t</td>\n",
       " <td width=\"8%\"><small>OPTATIVA</small></td>\n",
       " </tr>)"
      ]
     },
     "execution_count": 7,
     "metadata": {},
     "output_type": "execute_result"
    }
   ],
   "source": [
    "periodos[1]"
   ]
  },
  {
   "cell_type": "markdown",
   "metadata": {},
   "source": [
    "# Classe Curso"
   ]
  },
  {
   "cell_type": "code",
   "execution_count": 8,
   "metadata": {},
   "outputs": [
    {
     "name": "stdout",
     "output_type": "stream",
     "text": [
      "componentes\n"
     ]
    }
   ],
   "source": [
    "curso = Curso(componentes=periodos)"
   ]
  },
  {
   "cell_type": "code",
   "execution_count": 9,
   "metadata": {},
   "outputs": [
    {
     "data": {
      "text/plain": [
       "67, SINF/CSHNB027, REDES DE COMPUTADORES I, 4, OBRIGATÓRIA"
      ]
     },
     "execution_count": 9,
     "metadata": {},
     "output_type": "execute_result"
    }
   ],
   "source": [
    "curso.disciplinas[67]"
   ]
  },
  {
   "cell_type": "markdown",
   "metadata": {},
   "source": [
    "# Buscas"
   ]
  },
  {
   "cell_type": "code",
   "execution_count": 10,
   "metadata": {},
   "outputs": [
    {
     "data": {
      "text/plain": [
       "47, SINF/CSHNB007, ALGORITMOS E PROGRAMAÇÃO II, 2, OBRIGATÓRIA"
      ]
     },
     "execution_count": 10,
     "metadata": {},
     "output_type": "execute_result"
    }
   ],
   "source": [
    "curso.busca(\"SINF/CSHNB007\")"
   ]
  },
  {
   "cell_type": "code",
   "execution_count": 11,
   "metadata": {},
   "outputs": [
    {
     "data": {
      "text/plain": [
       "74, SINF/CSHNB052, REDES DE COMPUTADORES II, 5, OBRIGATÓRIA"
      ]
     },
     "execution_count": 11,
     "metadata": {},
     "output_type": "execute_result"
    }
   ],
   "source": [
    "curso.buscaName(\"Redes de Computadores ii\")"
   ]
  },
  {
   "cell_type": "code",
   "execution_count": 15,
   "metadata": {},
   "outputs": [
    {
     "data": {
      "text/plain": [
       "[54, SINF/CSHNB014, ARQUITETURA E ORGANIZAÇÃO DE COMPUTADORES, 3, OBRIGATÓRIA,\n",
       " 55, SINF/CSHNB015, BANCO DE DADOS I, 3, OBRIGATÓRIA,\n",
       " 56, SINF/CSHNB016, ENGENHARIA DE SOFTWARE I, 3, OBRIGATÓRIA,\n",
       " 57, SINF/CSHNB017, ESTATÍSTICA, 3, OBRIGATÓRIA,\n",
       " 58, SINF/CSHNB018, ESTRUTURAS DE DADOS I, 3, OBRIGATÓRIA,\n",
       " 59, SINF/CSHNB019, PROGRAMAÇÃO ORIENTADA A OBJETOS I, 3, OBRIGATÓRIA,\n",
       " 60, SINF/CSHNB020, SISTEMAS OPERACIONAIS, 3, OBRIGATÓRIA]"
      ]
     },
     "execution_count": 15,
     "metadata": {},
     "output_type": "execute_result"
    }
   ],
   "source": [
    "curso.nivel(3)"
   ]
  },
  {
   "cell_type": "markdown",
   "metadata": {},
   "source": [
    "# Conversões"
   ]
  },
  {
   "cell_type": "code",
   "execution_count": 13,
   "metadata": {},
   "outputs": [
    {
     "data": {
      "text/plain": [
       "{'id': 65,\n",
       " 'nivel': 4,\n",
       " 'cod': 'SINF/CSHNB025',\n",
       " 'name': 'PROGRAMAÇÃO ORIENTADA A OBJETOS II',\n",
       " 'horas': 60,\n",
       " 'tipo': 'DISCIPLINA',\n",
       " 'pre': 'SINF/CSHNB019',\n",
       " 'natureza': 'OBRIGATÓRIA',\n",
       " 'creditos': {'creditos': 4, 'aula': 15, 'lab': 45}}"
      ]
     },
     "execution_count": 13,
     "metadata": {},
     "output_type": "execute_result"
    }
   ],
   "source": [
    "curso.busca(\"SINF/CSHNB025\").dic()"
   ]
  },
  {
   "cell_type": "code",
   "execution_count": 14,
   "metadata": {},
   "outputs": [],
   "source": [
    "# with open(\"curso.json\", \"w\") as f:\n",
    "#     json.dump(curso.dic(), f, indent=4, ensure_ascii=False)"
   ]
  }
 ],
 "metadata": {
  "kernelspec": {
   "display_name": "Python 3",
   "language": "python",
   "name": "python3"
  },
  "language_info": {
   "codemirror_mode": {
    "name": "ipython",
    "version": 3
   },
   "file_extension": ".py",
   "mimetype": "text/x-python",
   "name": "python",
   "nbconvert_exporter": "python",
   "pygments_lexer": "ipython3",
   "version": "3.8.10"
  },
  "orig_nbformat": 4
 },
 "nbformat": 4,
 "nbformat_minor": 2
}
