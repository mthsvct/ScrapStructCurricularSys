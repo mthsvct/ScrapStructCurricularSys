{
 "cells": [
  {
   "cell_type": "code",
   "execution_count": 1,
   "metadata": {},
   "outputs": [],
   "source": [
    "from bs4 import BeautifulSoup as bs\n",
    "from bs4.element import Tag \n",
    "import requests\n",
    "import pandas as pd\n",
    "import numpy as np\n",
    "from threading import Thread\n",
    "from time import sleep, time\n",
    "import seaborn as sns\n",
    "import matplotlib.pyplot as plt\n",
    "from random import choice"
   ]
  },
  {
   "cell_type": "code",
   "execution_count": 2,
   "metadata": {},
   "outputs": [],
   "source": [
    "from curso import Curso\n",
    "from disciplina import Disciplina"
   ]
  },
  {
   "cell_type": "code",
   "execution_count": 3,
   "metadata": {},
   "outputs": [],
   "source": [
    "with open(\"estrutura.html\", \"r\", encoding=\"utf-8\") as f:\n",
    "    html = f.read()"
   ]
  },
  {
   "cell_type": "code",
   "execution_count": 4,
   "metadata": {},
   "outputs": [],
   "source": [
    "soup = bs(html, \"html.parser\")"
   ]
  },
  {
   "cell_type": "code",
   "execution_count": 5,
   "metadata": {},
   "outputs": [],
   "source": [
    "t = soup.find(\"table\", {\"class\": \"formulario\"}).find_all(\"tr\")[19].find(\"table\").find_all(\"tr\")"
   ]
  },
  {
   "cell_type": "code",
   "execution_count": 6,
   "metadata": {},
   "outputs": [],
   "source": [
    "def get_periodos(t):\n",
    "    periodos, nivel = [], 0\n",
    "\n",
    "    for i in t:\n",
    "        if 'class' in i.attrs:\n",
    "            if 'tituloRelatorio' == i.attrs['class'][0]:\n",
    "                nivel += 1\n",
    "            elif \"componentes\" == i.attrs['class'][0]: \n",
    "                periodos.append((nivel, i))\n",
    "\n",
    "                \n",
    "    return periodos"
   ]
  },
  {
   "cell_type": "code",
   "execution_count": 7,
   "metadata": {},
   "outputs": [],
   "source": [
    "periodos = get_periodos(t)"
   ]
  },
  {
   "cell_type": "code",
   "execution_count": 8,
   "metadata": {},
   "outputs": [
    {
     "data": {
      "text/plain": [
       "(96,\n",
       " (2, <tr class=\"componentes\">\n",
       "  <td>SINF/CSHNB008</td>\n",
       "  <td>\n",
       "  \t\t\t\t\t\t\t\t\t\tCIRCUITOS DIGITAIS - 60h (4cr)\n",
       "  \t\t\t\t\t\t\t\t\t</td>\n",
       "  <td style=\"font-size: 0.9em;\">\n",
       "  \t\t\t\t\t\t\t\t\t\t30h (2cr) aula \n",
       "  \t\t\t\t\t\t\t\t\t\t<br/> 30h (2cr) lab. \n",
       "  \t\t\t\t\t\t\t\t\t</td>\n",
       "  <td><small>\n",
       "  \t\t\t\t\t\t\t\t\tDISCIPLINA\n",
       "  \t\t\t\t\t\t\t\t\t\n",
       "  \t\t\t\t\t\t\t\t\t</small></td>\n",
       "  <td>\n",
       "  \t\t\t\t\t\t\t\t\t( ( SINF/CSHNB003 ) OU ( CHN0726 ) ) \n",
       "  \t\t\t\t\t\t\t\t\t</td>\n",
       "  <td>\n",
       "  \t\t\t\t\t\t\t\t\t-\n",
       "  \t\t\t\t\t\t\t\t\t</td>\n",
       "  <td width=\"8%\"><small>OBRIGATÓRIA</small></td>\n",
       "  </tr>))"
      ]
     },
     "execution_count": 8,
     "metadata": {},
     "output_type": "execute_result"
    }
   ],
   "source": [
    "len(periodos), periodos[48]"
   ]
  },
  {
   "cell_type": "code",
   "execution_count": 9,
   "metadata": {},
   "outputs": [],
   "source": [
    "curso = Curso(periodos)"
   ]
  },
  {
   "cell_type": "code",
   "execution_count": 10,
   "metadata": {},
   "outputs": [
    {
     "data": {
      "text/plain": [
       "67, SINF/CSHNB027, REDES DE COMPUTADORES I, 4, OBRIGATÓRIA"
      ]
     },
     "execution_count": 10,
     "metadata": {},
     "output_type": "execute_result"
    }
   ],
   "source": [
    "curso.disciplinas[67]"
   ]
  },
  {
   "cell_type": "code",
   "execution_count": 11,
   "metadata": {},
   "outputs": [
    {
     "data": {
      "text/plain": [
       "47, SINF/CSHNB007, ALGORITMOS E PROGRAMAÇÃO II, 2, OBRIGATÓRIA"
      ]
     },
     "execution_count": 11,
     "metadata": {},
     "output_type": "execute_result"
    }
   ],
   "source": [
    "curso.busca(\"SINF/CSHNB007\")"
   ]
  },
  {
   "cell_type": "code",
   "execution_count": 18,
   "metadata": {},
   "outputs": [
    {
     "data": {
      "text/plain": [
       "74, SINF/CSHNB052, REDES DE COMPUTADORES II, 5, OBRIGATÓRIA"
      ]
     },
     "execution_count": 18,
     "metadata": {},
     "output_type": "execute_result"
    }
   ],
   "source": [
    "curso.buscaName(\"Redes de Computadores ii\")"
   ]
  },
  {
   "cell_type": "code",
   "execution_count": 17,
   "metadata": {},
   "outputs": [
    {
     "data": {
      "text/plain": [
       "[94, SINF/CSHNB043, TRABALHO DE CONCLUSÃO DE CURSO III, 8, OBRIGATÓRIA,\n",
       " 95, SINF/CSHNB044, ESTÁGIO SUPERVISIONADO CURRICULAR, 8, OBRIGATÓRIA]"
      ]
     },
     "execution_count": 17,
     "metadata": {},
     "output_type": "execute_result"
    }
   ],
   "source": [
    "curso.buscaPer(8)"
   ]
  },
  {
   "cell_type": "code",
   "execution_count": 14,
   "metadata": {},
   "outputs": [
    {
     "data": {
      "text/plain": [
       "{'id': 65,\n",
       " 'nivel': 4,\n",
       " 'cod': 'SINF/CSHNB025',\n",
       " 'name': 'PROGRAMAÇÃO ORIENTADA A OBJETOS II',\n",
       " 'horas': 60,\n",
       " 'tipo': 'DISCIPLINA',\n",
       " 'pre': 'SINF/CSHNB019',\n",
       " 'natureza': 'OBRIGATÓRIA',\n",
       " 'creditos': {'creditos': 4, 'aula': 15, 'lab': 45}}"
      ]
     },
     "execution_count": 14,
     "metadata": {},
     "output_type": "execute_result"
    }
   ],
   "source": [
    "curso.busca(\"SINF/CSHNB025\").dic()"
   ]
  }
 ],
 "metadata": {
  "kernelspec": {
   "display_name": "Python 3",
   "language": "python",
   "name": "python3"
  },
  "language_info": {
   "codemirror_mode": {
    "name": "ipython",
    "version": 3
   },
   "file_extension": ".py",
   "mimetype": "text/x-python",
   "name": "python",
   "nbconvert_exporter": "python",
   "pygments_lexer": "ipython3",
   "version": "3.8.10"
  },
  "orig_nbformat": 4
 },
 "nbformat": 4,
 "nbformat_minor": 2
}
